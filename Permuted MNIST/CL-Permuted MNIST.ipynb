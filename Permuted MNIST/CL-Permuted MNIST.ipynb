{
 "cells": [
  {
   "cell_type": "markdown",
   "id": "55895216",
   "metadata": {},
   "source": [
    "## A Continual Learning Model\n",
    "\n",
    "A Continual Learning Model built with Avalanche."
   ]
  },
  {
   "cell_type": "code",
   "execution_count": 1,
   "id": "3f010e0a",
   "metadata": {},
   "outputs": [],
   "source": [
    "import torch\n",
    "from torch.nn import CrossEntropyLoss\n",
    "from torch.optim import Adam\n",
    "from avalanche.benchmarks.classic import PermutedMNIST\n",
    "from avalanche.models import SimpleMLP\n",
    "from avalanche.training.strategies import Naive, EWC\n",
    "from avalanche.logging import InteractiveLogger\n",
    "from avalanche.training.plugins import EvaluationPlugin\n",
    "from avalanche.evaluation.metrics import forgetting_metrics, accuracy_metrics, loss_metrics"
   ]
  },
  {
   "cell_type": "code",
   "execution_count": 2,
   "id": "cbb6ae1c",
   "metadata": {},
   "outputs": [],
   "source": [
    "model=SimpleMLP(num_classes=10)"
   ]
  },
  {
   "cell_type": "code",
   "execution_count": 3,
   "id": "0200cc10",
   "metadata": {},
   "outputs": [
    {
     "data": {
      "text/plain": [
       "device(type='cuda', index=0)"
      ]
     },
     "execution_count": 3,
     "metadata": {},
     "output_type": "execute_result"
    }
   ],
   "source": [
    "device = torch.device(\"cuda:0\" if torch.cuda.is_available() else \"cpu\")\n",
    "device"
   ]
  },
  {
   "cell_type": "code",
   "execution_count": 4,
   "id": "b7a88d26",
   "metadata": {},
   "outputs": [
    {
     "data": {
      "text/plain": [
       "SimpleMLP(\n",
       "  (features): Sequential(\n",
       "    (0): Linear(in_features=784, out_features=512, bias=True)\n",
       "    (1): ReLU(inplace=True)\n",
       "    (2): Dropout(p=0.5, inplace=False)\n",
       "  )\n",
       "  (classifier): Linear(in_features=512, out_features=10, bias=True)\n",
       ")"
      ]
     },
     "execution_count": 4,
     "metadata": {},
     "output_type": "execute_result"
    }
   ],
   "source": [
    "model"
   ]
  },
  {
   "cell_type": "code",
   "execution_count": 5,
   "id": "36fd2e36",
   "metadata": {},
   "outputs": [],
   "source": [
    "perm_mnist=PermutedMNIST(n_experiences=3,dataset_root='E:/Datasets/')"
   ]
  },
  {
   "cell_type": "code",
   "execution_count": 6,
   "id": "2f673f3b",
   "metadata": {},
   "outputs": [],
   "source": [
    "train_stream=perm_mnist.train_stream\n",
    "test_stream=perm_mnist.test_stream"
   ]
  },
  {
   "cell_type": "code",
   "execution_count": 7,
   "id": "2cb7bdf3",
   "metadata": {},
   "outputs": [
    {
     "data": {
      "text/plain": [
       "<avalanche.benchmarks.scenarios.generic_cl_scenario.GenericScenarioStream at 0x26999266490>"
      ]
     },
     "execution_count": 7,
     "metadata": {},
     "output_type": "execute_result"
    }
   ],
   "source": [
    "train_stream"
   ]
  },
  {
   "cell_type": "code",
   "execution_count": 8,
   "id": "f80fb4ab",
   "metadata": {},
   "outputs": [
    {
     "name": "stderr",
     "output_type": "stream",
     "text": [
      "c:\\users\\ashwin\\miniconda3\\lib\\site-packages\\avalanche\\training\\plugins\\evaluation.py:75: UserWarning: No benchmark provided to the evaluation plugin. Metrics may be computed on inconsistent portion of streams, use at your own risk.\n",
      "  warnings.warn(\n"
     ]
    }
   ],
   "source": [
    "optimizer=Adam(model.parameters())\n",
    "criterion=CrossEntropyLoss()\n",
    "interactive_logger = InteractiveLogger()\n",
    "\n",
    "eval_plugin = EvaluationPlugin(\n",
    "    accuracy_metrics(minibatch=True, epoch=True, experience=True, stream=True),\n",
    "    loss_metrics(minibatch=True, epoch=True, experience=True, stream=True),\n",
    "    loggers=[interactive_logger])"
   ]
  },
  {
   "cell_type": "code",
   "execution_count": 9,
   "id": "10e76220",
   "metadata": {},
   "outputs": [],
   "source": [
    "strategy=EWC(model,optimizer,criterion,train_mb_size=32,train_epochs=2,eval_mb_size=32,ewc_lambda=0.001,device=device,evaluator=eval_plugin)"
   ]
  },
  {
   "cell_type": "code",
   "execution_count": 10,
   "id": "91292d34",
   "metadata": {},
   "outputs": [
    {
     "name": "stdout",
     "output_type": "stream",
     "text": [
      "[0, 1, 2, 3, 4, 5, 6, 7, 8, 9]\n",
      "0\n",
      "-- >> Start of training phase << --\n",
      "-- Starting training on experience 0 (Task 0) from train stream --\n",
      "100%|██████████████████████████████████████████████████████████████████████████████| 1875/1875 [00:28<00:00, 66.72it/s]\n",
      "Epoch 0 ended.\n",
      "\tLoss_Epoch/train_phase/train_stream/Task000 = 0.2721\n",
      "\tLoss_MB/train_phase/train_stream/Task000 = 0.1614\n",
      "\tTop1_Acc_Epoch/train_phase/train_stream/Task000 = 0.9169\n",
      "\tTop1_Acc_MB/train_phase/train_stream/Task000 = 0.9375\n",
      "100%|██████████████████████████████████████████████████████████████████████████████| 1875/1875 [00:26<00:00, 69.94it/s]\n",
      "Epoch 1 ended.\n",
      "\tLoss_Epoch/train_phase/train_stream/Task000 = 0.1666\n",
      "\tLoss_MB/train_phase/train_stream/Task000 = 0.0806\n",
      "\tTop1_Acc_Epoch/train_phase/train_stream/Task000 = 0.9502\n",
      "\tTop1_Acc_MB/train_phase/train_stream/Task000 = 0.9688\n",
      "-- >> End of training phase << --\n",
      "-- >> Start of eval phase << --\n",
      "-- Starting eval on experience 0 (Task 0) from test stream --\n",
      "100%|████████████████████████████████████████████████████████████████████████████████| 313/313 [00:04<00:00, 76.94it/s]\n",
      "> Eval on experience 0 (Task 0) from test stream ended.\n",
      "\tLoss_Exp/eval_phase/test_stream/Task000/Exp000 = 0.0996\n",
      "\tTop1_Acc_Exp/eval_phase/test_stream/Task000/Exp000 = 0.9699\n",
      "-- Starting eval on experience 1 (Task 1) from test stream --\n",
      "100%|████████████████████████████████████████████████████████████████████████████████| 313/313 [00:04<00:00, 76.54it/s]\n",
      "> Eval on experience 1 (Task 1) from test stream ended.\n",
      "\tLoss_Exp/eval_phase/test_stream/Task001/Exp001 = 4.9300\n",
      "\tTop1_Acc_Exp/eval_phase/test_stream/Task001/Exp001 = 0.1170\n",
      "-- Starting eval on experience 2 (Task 2) from test stream --\n",
      "100%|████████████████████████████████████████████████████████████████████████████████| 313/313 [00:04<00:00, 76.82it/s]\n",
      "> Eval on experience 2 (Task 2) from test stream ended.\n",
      "\tLoss_Exp/eval_phase/test_stream/Task002/Exp002 = 7.4616\n",
      "\tTop1_Acc_Exp/eval_phase/test_stream/Task002/Exp002 = 0.1371\n",
      "-- >> End of eval phase << --\n",
      "\tLoss_Stream/eval_phase/test_stream/Task000 = 0.0996\n",
      "\tLoss_Stream/eval_phase/test_stream/Task001 = 4.9300\n",
      "\tLoss_Stream/eval_phase/test_stream/Task002 = 7.4616\n",
      "\tTop1_Acc_Stream/eval_phase/test_stream/Task000 = 0.9699\n",
      "\tTop1_Acc_Stream/eval_phase/test_stream/Task001 = 0.1170\n",
      "\tTop1_Acc_Stream/eval_phase/test_stream/Task002 = 0.1371\n"
     ]
    }
   ],
   "source": [
    "results=[]\n",
    "for train_task in train_stream:\n",
    "    print(train_task.classes_in_this_experience)\n",
    "    print(train_task.current_experience)\n",
    "    strategy.train(train_task)\n",
    "    results.append(strategy.eval(test_stream))\n",
    "    break"
   ]
  },
  {
   "cell_type": "code",
   "execution_count": 11,
   "id": "c3e917a0",
   "metadata": {},
   "outputs": [
    {
     "data": {
      "text/plain": [
       "SimpleMLP(\n",
       "  (features): Sequential(\n",
       "    (0): Linear(in_features=784, out_features=512, bias=True)\n",
       "    (1): ReLU(inplace=True)\n",
       "    (2): Dropout(p=0.5, inplace=False)\n",
       "  )\n",
       "  (classifier): Linear(in_features=512, out_features=10, bias=True)\n",
       ")"
      ]
     },
     "execution_count": 11,
     "metadata": {},
     "output_type": "execute_result"
    }
   ],
   "source": [
    "model"
   ]
  },
  {
   "cell_type": "code",
   "execution_count": 12,
   "id": "95ce047b",
   "metadata": {},
   "outputs": [
    {
     "data": {
      "text/plain": [
       "<avalanche.benchmarks.scenarios.generic_cl_scenario.GenericScenarioStream at 0x26999266490>"
      ]
     },
     "execution_count": 12,
     "metadata": {},
     "output_type": "execute_result"
    }
   ],
   "source": [
    "train_stream"
   ]
  },
  {
   "cell_type": "code",
   "execution_count": 13,
   "id": "d8d6abf2",
   "metadata": {},
   "outputs": [
    {
     "data": {
      "text/plain": [
       "<avalanche.benchmarks.scenarios.new_classes.nc_scenario.NCScenario at 0x26982c98a90>"
      ]
     },
     "execution_count": 13,
     "metadata": {},
     "output_type": "execute_result"
    }
   ],
   "source": [
    "perm_mnist"
   ]
  },
  {
   "cell_type": "code",
   "execution_count": 14,
   "id": "60ac3fc8",
   "metadata": {},
   "outputs": [
    {
     "data": {
      "text/plain": [
       "[{'Top1_Acc_MB/train_phase/train_stream/Task000': 0.96875,\n",
       "  'Loss_MB/train_phase/train_stream/Task000': 0.08061923831701279,\n",
       "  'Top1_Acc_Epoch/train_phase/train_stream/Task000': 0.95015,\n",
       "  'Loss_Epoch/train_phase/train_stream/Task000': 0.16664849396621187,\n",
       "  'Top1_Acc_Exp/eval_phase/test_stream/Task000/Exp000': 0.9699,\n",
       "  'Loss_Exp/eval_phase/test_stream/Task000/Exp000': 0.0995846578541561,\n",
       "  'Top1_Acc_Exp/eval_phase/test_stream/Task001/Exp001': 0.117,\n",
       "  'Loss_Exp/eval_phase/test_stream/Task001/Exp001': 4.93001266708374,\n",
       "  'Top1_Acc_Exp/eval_phase/test_stream/Task002/Exp002': 0.1371,\n",
       "  'Loss_Exp/eval_phase/test_stream/Task002/Exp002': 7.461552218627929,\n",
       "  'Top1_Acc_Stream/eval_phase/test_stream/Task000': 0.9699,\n",
       "  'Top1_Acc_Stream/eval_phase/test_stream/Task001': 0.117,\n",
       "  'Top1_Acc_Stream/eval_phase/test_stream/Task002': 0.1371,\n",
       "  'Loss_Stream/eval_phase/test_stream/Task000': 0.0995846578541561,\n",
       "  'Loss_Stream/eval_phase/test_stream/Task001': 4.93001266708374,\n",
       "  'Loss_Stream/eval_phase/test_stream/Task002': 7.461552218627929}]"
      ]
     },
     "execution_count": 14,
     "metadata": {},
     "output_type": "execute_result"
    }
   ],
   "source": [
    "results"
   ]
  },
  {
   "cell_type": "code",
   "execution_count": null,
   "id": "90a9df1a",
   "metadata": {},
   "outputs": [],
   "source": []
  }
 ],
 "metadata": {
  "kernelspec": {
   "display_name": "Python 3 (ipykernel)",
   "language": "python",
   "name": "python3"
  },
  "language_info": {
   "codemirror_mode": {
    "name": "ipython",
    "version": 3
   },
   "file_extension": ".py",
   "mimetype": "text/x-python",
   "name": "python",
   "nbconvert_exporter": "python",
   "pygments_lexer": "ipython3",
   "version": "3.9.1"
  }
 },
 "nbformat": 4,
 "nbformat_minor": 5
}
