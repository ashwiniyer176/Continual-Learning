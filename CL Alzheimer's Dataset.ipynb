{
 "cells": [
  {
   "cell_type": "markdown",
   "id": "8b563214",
   "metadata": {},
   "source": [
    "## Continual Learning on the Alzheimer's Dataset\n",
    "\n",
    "A basic CL based approach to classifying levels of Alzheimer's based on MRI scan images\n",
    "\n",
    "Dataset Link: https://www.kaggle.com/tourist55/alzheimers-dataset-4-class-of-images"
   ]
  },
  {
   "cell_type": "code",
   "execution_count": 1,
   "id": "d7c56476",
   "metadata": {},
   "outputs": [],
   "source": [
    "from avalanche.benchmarks.utils import AvalancheDataset\n",
    "from avalanche.logging import InteractiveLogger\n",
    "from avalanche.evaluation.metrics import accuracy_metrics, loss_metrics\n",
    "import os\n",
    "import torch\n",
    "from torch import nn\n",
    "from torchvision import transforms\n",
    "import torch.nn.functional as F\n",
    "from torchvision.datasets import ImageFolder\n",
    "from torch.utils.data import DataLoader, Dataset\n",
    "from avalanche.benchmarks.generators import dataset_benchmark\n",
    "from avalanche.training.strategies import EWC, LwF\n",
    "from avalanche.training.plugins import EvaluationPlugin\n",
    "from avalanche.logging import InteractiveLogger"
   ]
  },
  {
   "cell_type": "code",
   "execution_count": 2,
   "id": "9e92aa81",
   "metadata": {},
   "outputs": [
    {
     "data": {
      "text/plain": [
       "device(type='cuda', index=0)"
      ]
     },
     "execution_count": 2,
     "metadata": {},
     "output_type": "execute_result"
    }
   ],
   "source": [
    "device = torch.device(\"cuda:0\" if torch.cuda.is_available() else \"cpu\")\n",
    "device"
   ]
  },
  {
   "cell_type": "code",
   "execution_count": 3,
   "id": "5266c063",
   "metadata": {},
   "outputs": [],
   "source": [
    "transform=transforms.Compose([\n",
    "    transforms.RandomResizedCrop(180),\n",
    "    transforms.CenterCrop(180),\n",
    "    transforms.Resize(255),\n",
    "    transforms.ToTensor(),\n",
    "    transforms.Normalize((0.5,0.5,0.5), (0.5,0.5,0.5))\n",
    "])"
   ]
  },
  {
   "cell_type": "code",
   "execution_count": 4,
   "id": "099fca09",
   "metadata": {},
   "outputs": [],
   "source": [
    "DATA_DIR='E:/Datasets/Alzheimer_s Dataset/'"
   ]
  },
  {
   "cell_type": "code",
   "execution_count": 5,
   "id": "cb0cfd26",
   "metadata": {},
   "outputs": [],
   "source": [
    "train_folder=ImageFolder(os.path.join(DATA_DIR,'train'),transform=transform)"
   ]
  },
  {
   "cell_type": "code",
   "execution_count": 6,
   "id": "2e2e9c5d",
   "metadata": {},
   "outputs": [],
   "source": [
    "test_folder=ImageFolder(os.path.join(DATA_DIR,'test'),transform=transform)"
   ]
  },
  {
   "cell_type": "code",
   "execution_count": 7,
   "id": "e6c7ab82",
   "metadata": {},
   "outputs": [
    {
     "data": {
      "text/plain": [
       "torchvision.datasets.folder.ImageFolder"
      ]
     },
     "execution_count": 7,
     "metadata": {},
     "output_type": "execute_result"
    }
   ],
   "source": [
    "type(test_folder)"
   ]
  },
  {
   "cell_type": "code",
   "execution_count": 8,
   "id": "0810d4e0",
   "metadata": {},
   "outputs": [],
   "source": [
    "class CNN(nn.Module):\n",
    "    def __init__(self):\n",
    "        super().__init__()\n",
    "        self.conv1=nn.Conv2d(3,6,5)\n",
    "        self.pool=nn.MaxPool2d(2,2)\n",
    "        self.conv2=nn.Conv2d(6,16,5)\n",
    "        self.fc1=nn.Linear(16*60*60,120)\n",
    "        self.fc2=nn.Linear(120,84)\n",
    "        self.fc3=nn.Linear(84,4)\n",
    "        self.softmax=nn.Softmax(dim=1)\n",
    "        \n",
    "    def forward(self,x):\n",
    "        x=self.conv1(x)\n",
    "        x=F.relu(x)\n",
    "        x=self.pool(x)\n",
    "        x=self.pool(F.relu(self.conv2(x)))\n",
    "        x=torch.flatten(x,1)\n",
    "        x=F.relu(self.fc1(x))\n",
    "        x=F.relu(self.fc2(x))\n",
    "        x=self.softmax(self.fc3(x))\n",
    "        return x\n",
    "cnn=CNN() "
   ]
  },
  {
   "cell_type": "code",
   "execution_count": 9,
   "id": "97810328",
   "metadata": {},
   "outputs": [
    {
     "data": {
      "text/plain": [
       "1279"
      ]
     },
     "execution_count": 9,
     "metadata": {},
     "output_type": "execute_result"
    }
   ],
   "source": [
    "len(test_folder)"
   ]
  },
  {
   "cell_type": "code",
   "execution_count": 10,
   "id": "6f57c92c",
   "metadata": {},
   "outputs": [
    {
     "data": {
      "text/plain": [
       "(tensor([[[-1., -1., -1.,  ..., -1., -1., -1.],\n",
       "          [-1., -1., -1.,  ..., -1., -1., -1.],\n",
       "          [-1., -1., -1.,  ..., -1., -1., -1.],\n",
       "          ...,\n",
       "          [-1., -1., -1.,  ..., -1., -1., -1.],\n",
       "          [-1., -1., -1.,  ..., -1., -1., -1.],\n",
       "          [-1., -1., -1.,  ..., -1., -1., -1.]],\n",
       " \n",
       "         [[-1., -1., -1.,  ..., -1., -1., -1.],\n",
       "          [-1., -1., -1.,  ..., -1., -1., -1.],\n",
       "          [-1., -1., -1.,  ..., -1., -1., -1.],\n",
       "          ...,\n",
       "          [-1., -1., -1.,  ..., -1., -1., -1.],\n",
       "          [-1., -1., -1.,  ..., -1., -1., -1.],\n",
       "          [-1., -1., -1.,  ..., -1., -1., -1.]],\n",
       " \n",
       "         [[-1., -1., -1.,  ..., -1., -1., -1.],\n",
       "          [-1., -1., -1.,  ..., -1., -1., -1.],\n",
       "          [-1., -1., -1.,  ..., -1., -1., -1.],\n",
       "          ...,\n",
       "          [-1., -1., -1.,  ..., -1., -1., -1.],\n",
       "          [-1., -1., -1.,  ..., -1., -1., -1.],\n",
       "          [-1., -1., -1.,  ..., -1., -1., -1.]]]),\n",
       " 0)"
      ]
     },
     "execution_count": 10,
     "metadata": {},
     "output_type": "execute_result"
    }
   ],
   "source": [
    "train_folder[0]"
   ]
  },
  {
   "cell_type": "code",
   "execution_count": 11,
   "id": "caba2eb3",
   "metadata": {},
   "outputs": [],
   "source": [
    "class AlzheimersDataset(Dataset):\n",
    "    def __init__(self, folder):\n",
    "        self.folder=folder\n",
    "        self.targets=folder.targets\n",
    "    \n",
    "    def __len__(self):\n",
    "        return len(self.folder)\n",
    "    \n",
    "    def __getitem__(self,idx):\n",
    "        return self.folder[idx]\n",
    "        \n",
    "        "
   ]
  },
  {
   "cell_type": "code",
   "execution_count": 12,
   "id": "7099ff1c",
   "metadata": {},
   "outputs": [],
   "source": [
    "train_data=AlzheimersDataset(train_folder)"
   ]
  },
  {
   "cell_type": "code",
   "execution_count": 13,
   "id": "c26ba5d0",
   "metadata": {},
   "outputs": [],
   "source": [
    "test_data=AlzheimersDataset(test_folder)"
   ]
  },
  {
   "cell_type": "code",
   "execution_count": 14,
   "id": "752772ff",
   "metadata": {},
   "outputs": [],
   "source": [
    "AlzheimersBM=dataset_benchmark(train_datasets=[train_data],test_datasets=[test_data])"
   ]
  },
  {
   "cell_type": "code",
   "execution_count": 15,
   "id": "edfe54c0",
   "metadata": {},
   "outputs": [],
   "source": [
    "train_stream=AlzheimersBM.train_stream\n",
    "test_stream=AlzheimersBM.test_stream"
   ]
  },
  {
   "cell_type": "code",
   "execution_count": 16,
   "id": "e96ac801",
   "metadata": {},
   "outputs": [
    {
     "name": "stderr",
     "output_type": "stream",
     "text": [
      "c:\\users\\ashwin\\miniconda3\\lib\\site-packages\\avalanche\\training\\plugins\\evaluation.py:75: UserWarning: No benchmark provided to the evaluation plugin. Metrics may be computed on inconsistent portion of streams, use at your own risk.\n",
      "  warnings.warn(\n"
     ]
    }
   ],
   "source": [
    "interactive_logger = InteractiveLogger()\n",
    "\n",
    "eval_plugin = EvaluationPlugin(\n",
    "    accuracy_metrics(minibatch=True, epoch=True, experience=True, stream=True),\n",
    "    loss_metrics(minibatch=True, epoch=True, experience=True, stream=True),\n",
    "    loggers=[interactive_logger])"
   ]
  },
  {
   "cell_type": "code",
   "execution_count": 17,
   "id": "2920aaad",
   "metadata": {},
   "outputs": [],
   "source": [
    "strategy=EWC(cnn,torch.optim.Adam(cnn.parameters()),nn.CrossEntropyLoss(),ewc_lambda=0.001,train_mb_size=32,train_epochs=10,eval_mb_size=13, evaluator=eval_plugin, device=device)"
   ]
  },
  {
   "cell_type": "code",
   "execution_count": 18,
   "id": "43997d12",
   "metadata": {},
   "outputs": [
    {
     "name": "stdout",
     "output_type": "stream",
     "text": [
      "0\n",
      "-- >> Start of training phase << --\n",
      "-- Starting training on experience 0 (Task 0) from train stream --\n",
      "0it [00:00, ?it/s]"
     ]
    },
    {
     "name": "stderr",
     "output_type": "stream",
     "text": [
      "c:\\users\\ashwin\\miniconda3\\lib\\site-packages\\torch\\nn\\functional.py:718: UserWarning: Named tensors and all their associated APIs are an experimental feature and subject to change. Please do not use them for anything important until they are released as stable. (Triggered internally at  ..\\c10/core/TensorImpl.h:1156.)\n",
      "  return torch.max_pool2d(input, kernel_size, stride, padding, dilation, ceil_mode)\n"
     ]
    },
    {
     "name": "stdout",
     "output_type": "stream",
     "text": [
      "100%|████████████████████████████████████████████████████████████████████████████████| 161/161 [00:32<00:00,  4.93it/s]\n",
      "Epoch 0 ended.\n",
      "\tLoss_Epoch/train_phase/train_stream/Task000 = 1.2136\n",
      "\tLoss_MB/train_phase/train_stream/Task000 = 0.7451\n",
      "\tTop1_Acc_Epoch/train_phase/train_stream/Task000 = 0.5071\n",
      "\tTop1_Acc_MB/train_phase/train_stream/Task000 = 1.0000\n",
      "100%|████████████████████████████████████████████████████████████████████████████████| 161/161 [00:30<00:00,  5.26it/s]\n",
      "Epoch 1 ended.\n",
      "\tLoss_Epoch/train_phase/train_stream/Task000 = 1.2239\n",
      "\tLoss_MB/train_phase/train_stream/Task000 = 1.2022\n",
      "\tTop1_Acc_Epoch/train_phase/train_stream/Task000 = 0.5063\n",
      "\tTop1_Acc_MB/train_phase/train_stream/Task000 = 1.0000\n",
      "100%|████████████████████████████████████████████████████████████████████████████████| 161/161 [00:24<00:00,  6.64it/s]\n",
      "Epoch 2 ended.\n",
      "\tLoss_Epoch/train_phase/train_stream/Task000 = 1.2124\n",
      "\tLoss_MB/train_phase/train_stream/Task000 = 0.7550\n",
      "\tTop1_Acc_Epoch/train_phase/train_stream/Task000 = 0.5040\n",
      "\tTop1_Acc_MB/train_phase/train_stream/Task000 = 1.0000\n",
      "100%|████████████████████████████████████████████████████████████████████████████████| 161/161 [00:21<00:00,  7.61it/s]\n",
      "Epoch 3 ended.\n",
      "\tLoss_Epoch/train_phase/train_stream/Task000 = 1.1985\n",
      "\tLoss_MB/train_phase/train_stream/Task000 = 0.8701\n",
      "\tTop1_Acc_Epoch/train_phase/train_stream/Task000 = 0.5231\n",
      "\tTop1_Acc_MB/train_phase/train_stream/Task000 = 1.0000\n",
      "100%|████████████████████████████████████████████████████████████████████████████████| 161/161 [00:20<00:00,  7.71it/s]\n",
      "Epoch 4 ended.\n",
      "\tLoss_Epoch/train_phase/train_stream/Task000 = 1.1903\n",
      "\tLoss_MB/train_phase/train_stream/Task000 = 1.7186\n",
      "\tTop1_Acc_Epoch/train_phase/train_stream/Task000 = 0.5304\n",
      "\tTop1_Acc_MB/train_phase/train_stream/Task000 = 0.0000\n",
      "100%|████████████████████████████████████████████████████████████████████████████████| 161/161 [00:21<00:00,  7.57it/s]\n",
      "Epoch 5 ended.\n",
      "\tLoss_Epoch/train_phase/train_stream/Task000 = 1.1913\n",
      "\tLoss_MB/train_phase/train_stream/Task000 = 1.3217\n",
      "\tTop1_Acc_Epoch/train_phase/train_stream/Task000 = 0.5263\n",
      "\tTop1_Acc_MB/train_phase/train_stream/Task000 = 0.0000\n",
      "100%|████████████████████████████████████████████████████████████████████████████████| 161/161 [00:21<00:00,  7.61it/s]\n",
      "Epoch 6 ended.\n",
      "\tLoss_Epoch/train_phase/train_stream/Task000 = 1.1834\n",
      "\tLoss_MB/train_phase/train_stream/Task000 = 0.7450\n",
      "\tTop1_Acc_Epoch/train_phase/train_stream/Task000 = 0.5360\n",
      "\tTop1_Acc_MB/train_phase/train_stream/Task000 = 1.0000\n",
      "100%|████████████████████████████████████████████████████████████████████████████████| 161/161 [00:21<00:00,  7.58it/s]\n",
      "Epoch 7 ended.\n",
      "\tLoss_Epoch/train_phase/train_stream/Task000 = 1.1906\n",
      "\tLoss_MB/train_phase/train_stream/Task000 = 0.8015\n",
      "\tTop1_Acc_Epoch/train_phase/train_stream/Task000 = 0.5347\n",
      "\tTop1_Acc_MB/train_phase/train_stream/Task000 = 1.0000\n",
      "100%|████████████████████████████████████████████████████████████████████████████████| 161/161 [00:21<00:00,  7.61it/s]\n",
      "Epoch 8 ended.\n",
      "\tLoss_Epoch/train_phase/train_stream/Task000 = 1.2036\n",
      "\tLoss_MB/train_phase/train_stream/Task000 = 0.8560\n",
      "\tTop1_Acc_Epoch/train_phase/train_stream/Task000 = 0.5214\n",
      "\tTop1_Acc_MB/train_phase/train_stream/Task000 = 1.0000\n",
      "100%|████████████████████████████████████████████████████████████████████████████████| 161/161 [00:21<00:00,  7.60it/s]\n",
      "Epoch 9 ended.\n",
      "\tLoss_Epoch/train_phase/train_stream/Task000 = 1.1838\n",
      "\tLoss_MB/train_phase/train_stream/Task000 = 1.6625\n",
      "\tTop1_Acc_Epoch/train_phase/train_stream/Task000 = 0.5345\n",
      "\tTop1_Acc_MB/train_phase/train_stream/Task000 = 0.0000\n",
      "-- >> End of training phase << --\n",
      "-- >> Start of eval phase << --\n",
      "-- Starting eval on experience 0 (Task 0) from test stream --\n",
      "100%|██████████████████████████████████████████████████████████████████████████████████| 99/99 [00:04<00:00, 23.84it/s]\n",
      "> Eval on experience 0 (Task 0) from test stream ended.\n",
      "\tLoss_Exp/eval_phase/test_stream/Task000/Exp000 = 1.1937\n",
      "\tTop1_Acc_Exp/eval_phase/test_stream/Task000/Exp000 = 0.5278\n",
      "-- >> End of eval phase << --\n",
      "\tLoss_Stream/eval_phase/test_stream/Task000 = 1.1937\n",
      "\tTop1_Acc_Stream/eval_phase/test_stream/Task000 = 0.5278\n"
     ]
    }
   ],
   "source": [
    "results=[]\n",
    "for train_task in train_stream:\n",
    "    print(train_task.current_experience)\n",
    "    strategy.train(train_task)\n",
    "    results.append(strategy.eval(test_stream))\n"
   ]
  },
  {
   "cell_type": "code",
   "execution_count": 19,
   "id": "7c4a3013",
   "metadata": {},
   "outputs": [
    {
     "data": {
      "text/plain": [
       "[{'Top1_Acc_MB/train_phase/train_stream/Task000': 0.0,\n",
       "  'Loss_MB/train_phase/train_stream/Task000': 1.6625163555145264,\n",
       "  'Top1_Acc_Epoch/train_phase/train_stream/Task000': 0.5344659246240968,\n",
       "  'Loss_Epoch/train_phase/train_stream/Task000': 1.1838139302794344,\n",
       "  'Top1_Acc_Exp/eval_phase/test_stream/Task000/Exp000': 0.527756059421423,\n",
       "  'Loss_Exp/eval_phase/test_stream/Task000/Exp000': 1.1936826997198473,\n",
       "  'Top1_Acc_Stream/eval_phase/test_stream/Task000': 0.527756059421423,\n",
       "  'Loss_Stream/eval_phase/test_stream/Task000': 1.1936826997198473}]"
      ]
     },
     "execution_count": 19,
     "metadata": {},
     "output_type": "execute_result"
    }
   ],
   "source": [
    "results"
   ]
  },
  {
   "cell_type": "code",
   "execution_count": 21,
   "id": "3ca86488",
   "metadata": {},
   "outputs": [],
   "source": [
    "i,l=test_data[100]"
   ]
  },
  {
   "cell_type": "code",
   "execution_count": 24,
   "id": "2ec3b3b1",
   "metadata": {},
   "outputs": [],
   "source": [
    "o=cnn(torch.unsqueeze(i,0).cuda())"
   ]
  },
  {
   "cell_type": "code",
   "execution_count": 32,
   "id": "57366007",
   "metadata": {},
   "outputs": [
    {
     "data": {
      "text/plain": [
       "tensor(0.5818, device='cuda:0', grad_fn=<SelectBackward>)"
      ]
     },
     "execution_count": 32,
     "metadata": {},
     "output_type": "execute_result"
    }
   ],
   "source": [
    "o[0][3]"
   ]
  },
  {
   "cell_type": "code",
   "execution_count": null,
   "id": "9cd956fa",
   "metadata": {},
   "outputs": [],
   "source": []
  }
 ],
 "metadata": {
  "kernelspec": {
   "display_name": "Python 3 (ipykernel)",
   "language": "python",
   "name": "python3"
  },
  "language_info": {
   "codemirror_mode": {
    "name": "ipython",
    "version": 3
   },
   "file_extension": ".py",
   "mimetype": "text/x-python",
   "name": "python",
   "nbconvert_exporter": "python",
   "pygments_lexer": "ipython3",
   "version": "3.9.1"
  }
 },
 "nbformat": 4,
 "nbformat_minor": 5
}
